{
 "cells": [
  {
   "cell_type": "markdown",
   "metadata": {},
   "source": [
    "Import all the necessary libraries.\n",
    "Tensorflow without intel extension.\n",
    "Import VGG16 pre trained model."
   ]
  },
  {
   "cell_type": "code",
   "execution_count": 1,
   "metadata": {},
   "outputs": [],
   "source": [
    "import os\n",
    "import time\n",
    "import tensorflow as tf\n",
    "import matplotlib.pyplot as plt\n",
    "from tensorflow.keras.optimizers import Adam\n",
    "from tensorflow.keras.preprocessing.image import ImageDataGenerator\n",
    "from tensorflow.keras.applications import MobileNetV2\n",
    "from tensorflow.keras.layers import Dense, GlobalAveragePooling2D\n",
    "from tensorflow.keras.models import Model\n",
    "\n"
   ]
  },
  {
   "cell_type": "markdown",
   "metadata": {},
   "source": [
    "Define the path to the dataset."
   ]
  },
  {
   "cell_type": "code",
   "execution_count": 2,
   "metadata": {},
   "outputs": [],
   "source": [
    "\n",
    "# Define the path to your dataset\n",
    "data_dir = r\"C:\\Users\\rbsra\\OneDrive\\Desktop\\stuff\\archive\"\n"
   ]
  },
  {
   "cell_type": "markdown",
   "metadata": {},
   "source": [
    "ImageDatagenerator to utilise data augmentation for increased diversity of the data fed into the model for improved accuracy"
   ]
  },
  {
   "cell_type": "code",
   "execution_count": 3,
   "metadata": {},
   "outputs": [],
   "source": [
    "\n",
    "# Create an ImageDataGenerator for data augmentation\n",
    "train_datagen = ImageDataGenerator(\n",
    "    rescale=1.0 / 255,\n",
    "    rotation_range=20,\n",
    "    width_shift_range=0.2,\n",
    "    height_shift_range=0.2,\n",
    "    shear_range=0.2,\n",
    "    zoom_range=0.2,\n",
    "    horizontal_flip=True,\n",
    "    fill_mode='nearest'\n",
    ")\n"
   ]
  },
  {
   "cell_type": "markdown",
   "metadata": {},
   "source": [
    "Initilise values for batch_size, target_size. model used here is MobileNetV2 consisting of three customised layers\n"
   ]
  },
  {
   "cell_type": "code",
   "execution_count": 4,
   "metadata": {},
   "outputs": [
    {
     "name": "stdout",
     "output_type": "stream",
     "text": [
      "Found 5712 images belonging to 4 classes.\n"
     ]
    },
    {
     "name": "stderr",
     "output_type": "stream",
     "text": [
      "WARNING:absl:`lr` is deprecated in Keras optimizer, please use `learning_rate` or use the legacy optimizer, e.g.,tf.keras.optimizers.legacy.Adam.\n"
     ]
    },
    {
     "name": "stdout",
     "output_type": "stream",
     "text": [
      "Epoch 1/10\n",
      "179/179 [==============================] - 116s 599ms/step - loss: 0.4839 - accuracy: 0.8452\n",
      "Epoch 2/10\n",
      "179/179 [==============================] - 79s 442ms/step - loss: 0.2786 - accuracy: 0.9025\n",
      "Epoch 3/10\n",
      "179/179 [==============================] - 79s 444ms/step - loss: 0.2133 - accuracy: 0.9298\n",
      "Epoch 4/10\n",
      "179/179 [==============================] - 79s 440ms/step - loss: 0.1874 - accuracy: 0.9335\n",
      "Epoch 5/10\n",
      "179/179 [==============================] - 79s 439ms/step - loss: 0.1775 - accuracy: 0.9386\n",
      "Epoch 6/10\n",
      "179/179 [==============================] - 79s 439ms/step - loss: 0.1707 - accuracy: 0.9417\n",
      "Epoch 7/10\n",
      "179/179 [==============================] - 79s 439ms/step - loss: 0.1544 - accuracy: 0.9463\n",
      "Epoch 8/10\n",
      "179/179 [==============================] - 81s 454ms/step - loss: 0.1526 - accuracy: 0.9477\n",
      "Epoch 9/10\n",
      "179/179 [==============================] - 81s 454ms/step - loss: 0.1225 - accuracy: 0.9576\n",
      "Epoch 10/10\n",
      "179/179 [==============================] - 79s 442ms/step - loss: 0.1243 - accuracy: 0.9587\n"
     ]
    },
    {
     "data": {
      "image/png": "[encoded data removed]",
      "text/plain": [
       "<Figure size 640x480 with 1 Axes>"
      ]
     },
     "metadata": {},
     "output_type": "display_data"
    },
    {
     "name": "stdout",
     "output_type": "stream",
     "text": [
      "Total runtime: 831.35 seconds\n"
     ]
    }
   ],
   "source": [
    "\n",
    "# Create a data generator for training data\n",
    "batch_size = 32\n",
    "target_size = (128, 128)  # Reduce the image size\n",
    "train_generator = train_datagen.flow_from_directory(\n",
    "    os.path.join(data_dir, \"Training\"),\n",
    "    target_size=target_size,\n",
    "    batch_size=batch_size,\n",
    "    class_mode='categorical',  # Use 'categorical' for multi-class classification\n",
    "    shuffle=True\n",
    ")\n",
    "\n",
    "# Load a pre-trained MobileNetV2 model without the top (fully connected) layers\n",
    "base_model = MobileNetV2(weights='imagenet', include_top=False, input_shape=(128, 128, 3))\n",
    "\n",
    "# Add your custom top layers for classification\n",
    "x = base_model.output\n",
    "x = GlobalAveragePooling2D()(x)\n",
    "x = Dense(1024, activation='relu')(x)\n",
    "predictions = Dense(4, activation='softmax')(x)  # Match the number of classes in your dataset\n",
    "\n",
    "# Create a new model by combining the base model and custom top layers\n",
    "model = Model(inputs=base_model.input, outputs=predictions)\n",
    "\n",
    "# Compile the model\n",
    "model.compile(optimizer=Adam(lr=0.001),  # You can adjust the learning rate as needed\n",
    "              loss='categorical_crossentropy',  # Use the appropriate loss function\n",
    "              metrics=['accuracy'])  # You can add more metrics if needed\n",
    "\n",
    "# Record start time\n",
    "start_time = time.time()\n",
    "\n",
    "# Train the model and record history\n",
    "history = model.fit(\n",
    "    train_generator,\n",
    "    epochs=10\n",
    ")\n",
    "\n",
    "# Record end time\n",
    "end_time = time.time()\n",
    "\n",
    "# Plot the accuracy graph\n",
    "plt.plot(history.history['accuracy'])\n",
    "plt.title('Model Accuracy')\n",
    "plt.xlabel('Epochs')\n",
    "plt.ylabel('Accuracy')\n",
    "plt.show()\n",
    "\n",
    "# Calculate and print the runtime\n",
    "runtime = end_time - start_time\n",
    "print(f\"Total runtime: {runtime:.2f} seconds\")"
   ]
  }
 ],
 "metadata": {
  "kernelspec": {
   "display_name": "Python 3",
   "language": "python",
   "name": "python3"
  },
  "language_info": {
   "codemirror_mode": {
    "name": "ipython",
    "version": 3
   },
   "file_extension": ".py",
   "mimetype": "text/x-python",
   "name": "python",
   "nbconvert_exporter": "python",
   "pygments_lexer": "ipython3",
   "version": "3.11.4"
  },
  "orig_nbformat": 4
 },
 "nbformat": 4,
 "nbformat_minor": 2
}
